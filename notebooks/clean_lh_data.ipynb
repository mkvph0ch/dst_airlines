{
 "cells": [
  {
   "cell_type": "markdown",
   "metadata": {},
   "source": []
  },
  {
   "cell_type": "code",
   "execution_count": 59,
   "metadata": {},
   "outputs": [],
   "source": [
    "import pandas as pd\n",
    "import numpy as np\n",
    "from pathlib import Path"
   ]
  },
  {
   "cell_type": "code",
   "execution_count": 60,
   "metadata": {},
   "outputs": [],
   "source": [
    "current_path = Path.cwd()\n",
    "data_path = current_path.parent.joinpath('data')"
   ]
  },
  {
   "attachments": {},
   "cell_type": "markdown",
   "metadata": {},
   "source": [
    "# Countries"
   ]
  },
  {
   "cell_type": "code",
   "execution_count": 10,
   "metadata": {},
   "outputs": [
    {
     "data": {
      "text/html": [
       "<div>\n",
       "<style scoped>\n",
       "    .dataframe tbody tr th:only-of-type {\n",
       "        vertical-align: middle;\n",
       "    }\n",
       "\n",
       "    .dataframe tbody tr th {\n",
       "        vertical-align: top;\n",
       "    }\n",
       "\n",
       "    .dataframe thead th {\n",
       "        text-align: right;\n",
       "    }\n",
       "</style>\n",
       "<table border=\"1\" class=\"dataframe\">\n",
       "  <thead>\n",
       "    <tr style=\"text-align: right;\">\n",
       "      <th></th>\n",
       "      <th>CountryCode</th>\n",
       "      <th>Names.Name.@LanguageCode</th>\n",
       "      <th>Names.Name.$</th>\n",
       "    </tr>\n",
       "  </thead>\n",
       "  <tbody>\n",
       "    <tr>\n",
       "      <th>0</th>\n",
       "      <td>AD</td>\n",
       "      <td>EN</td>\n",
       "      <td>Andorra</td>\n",
       "    </tr>\n",
       "    <tr>\n",
       "      <th>1</th>\n",
       "      <td>AE</td>\n",
       "      <td>EN</td>\n",
       "      <td>United Arab Emirates</td>\n",
       "    </tr>\n",
       "    <tr>\n",
       "      <th>2</th>\n",
       "      <td>AF</td>\n",
       "      <td>EN</td>\n",
       "      <td>Afghanistan</td>\n",
       "    </tr>\n",
       "    <tr>\n",
       "      <th>3</th>\n",
       "      <td>AG</td>\n",
       "      <td>EN</td>\n",
       "      <td>Antigua And Barbuda, Leeward Islands</td>\n",
       "    </tr>\n",
       "    <tr>\n",
       "      <th>4</th>\n",
       "      <td>AI</td>\n",
       "      <td>EN</td>\n",
       "      <td>Anguilla, Leeward Islands</td>\n",
       "    </tr>\n",
       "  </tbody>\n",
       "</table>\n",
       "</div>"
      ],
      "text/plain": [
       "  CountryCode Names.Name.@LanguageCode                          Names.Name.$\n",
       "0          AD                       EN                               Andorra\n",
       "1          AE                       EN                  United Arab Emirates\n",
       "2          AF                       EN                           Afghanistan\n",
       "3          AG                       EN  Antigua And Barbuda, Leeward Islands\n",
       "4          AI                       EN             Anguilla, Leeward Islands"
      ]
     },
     "execution_count": 10,
     "metadata": {},
     "output_type": "execute_result"
    }
   ],
   "source": [
    "df_countries_raw = pd.read_csv(data_path.joinpath('df_countries.csv'), sep=';', header=0, na_values=[\"\", np.nan], keep_default_na=False)\n",
    "df_countries_raw.head()"
   ]
  },
  {
   "cell_type": "code",
   "execution_count": 11,
   "metadata": {},
   "outputs": [
    {
     "data": {
      "text/html": [
       "<div>\n",
       "<style scoped>\n",
       "    .dataframe tbody tr th:only-of-type {\n",
       "        vertical-align: middle;\n",
       "    }\n",
       "\n",
       "    .dataframe tbody tr th {\n",
       "        vertical-align: top;\n",
       "    }\n",
       "\n",
       "    .dataframe thead th {\n",
       "        text-align: right;\n",
       "    }\n",
       "</style>\n",
       "<table border=\"1\" class=\"dataframe\">\n",
       "  <thead>\n",
       "    <tr style=\"text-align: right;\">\n",
       "      <th></th>\n",
       "      <th>CountryCode</th>\n",
       "      <th>LanguageCode</th>\n",
       "      <th>CountryName</th>\n",
       "    </tr>\n",
       "  </thead>\n",
       "  <tbody>\n",
       "    <tr>\n",
       "      <th>0</th>\n",
       "      <td>AD</td>\n",
       "      <td>EN</td>\n",
       "      <td>Andorra</td>\n",
       "    </tr>\n",
       "    <tr>\n",
       "      <th>1</th>\n",
       "      <td>AE</td>\n",
       "      <td>EN</td>\n",
       "      <td>United Arab Emirates</td>\n",
       "    </tr>\n",
       "    <tr>\n",
       "      <th>2</th>\n",
       "      <td>AF</td>\n",
       "      <td>EN</td>\n",
       "      <td>Afghanistan</td>\n",
       "    </tr>\n",
       "    <tr>\n",
       "      <th>3</th>\n",
       "      <td>AG</td>\n",
       "      <td>EN</td>\n",
       "      <td>Antigua And Barbuda, Leeward Islands</td>\n",
       "    </tr>\n",
       "    <tr>\n",
       "      <th>4</th>\n",
       "      <td>AI</td>\n",
       "      <td>EN</td>\n",
       "      <td>Anguilla, Leeward Islands</td>\n",
       "    </tr>\n",
       "  </tbody>\n",
       "</table>\n",
       "</div>"
      ],
      "text/plain": [
       "  CountryCode LanguageCode                           CountryName\n",
       "0          AD           EN                               Andorra\n",
       "1          AE           EN                  United Arab Emirates\n",
       "2          AF           EN                           Afghanistan\n",
       "3          AG           EN  Antigua And Barbuda, Leeward Islands\n",
       "4          AI           EN             Anguilla, Leeward Islands"
      ]
     },
     "execution_count": 11,
     "metadata": {},
     "output_type": "execute_result"
    }
   ],
   "source": [
    "df_countries_raw.columns = ['CountryCode', 'LanguageCode', 'CountryName']\n",
    "df_countries_raw.head()"
   ]
  },
  {
   "cell_type": "code",
   "execution_count": 12,
   "metadata": {},
   "outputs": [
    {
     "data": {
      "text/html": [
       "<div>\n",
       "<style scoped>\n",
       "    .dataframe tbody tr th:only-of-type {\n",
       "        vertical-align: middle;\n",
       "    }\n",
       "\n",
       "    .dataframe tbody tr th {\n",
       "        vertical-align: top;\n",
       "    }\n",
       "\n",
       "    .dataframe thead th {\n",
       "        text-align: right;\n",
       "    }\n",
       "</style>\n",
       "<table border=\"1\" class=\"dataframe\">\n",
       "  <thead>\n",
       "    <tr style=\"text-align: right;\">\n",
       "      <th></th>\n",
       "      <th>CountryCode</th>\n",
       "      <th>CountryName</th>\n",
       "    </tr>\n",
       "  </thead>\n",
       "  <tbody>\n",
       "    <tr>\n",
       "      <th>0</th>\n",
       "      <td>AD</td>\n",
       "      <td>Andorra</td>\n",
       "    </tr>\n",
       "    <tr>\n",
       "      <th>1</th>\n",
       "      <td>AE</td>\n",
       "      <td>United Arab Emirates</td>\n",
       "    </tr>\n",
       "    <tr>\n",
       "      <th>2</th>\n",
       "      <td>AF</td>\n",
       "      <td>Afghanistan</td>\n",
       "    </tr>\n",
       "    <tr>\n",
       "      <th>3</th>\n",
       "      <td>AG</td>\n",
       "      <td>Antigua And Barbuda, Leeward Islands</td>\n",
       "    </tr>\n",
       "    <tr>\n",
       "      <th>4</th>\n",
       "      <td>AI</td>\n",
       "      <td>Anguilla, Leeward Islands</td>\n",
       "    </tr>\n",
       "  </tbody>\n",
       "</table>\n",
       "</div>"
      ],
      "text/plain": [
       "  CountryCode                           CountryName\n",
       "0          AD                               Andorra\n",
       "1          AE                  United Arab Emirates\n",
       "2          AF                           Afghanistan\n",
       "3          AG  Antigua And Barbuda, Leeward Islands\n",
       "4          AI             Anguilla, Leeward Islands"
      ]
     },
     "execution_count": 12,
     "metadata": {},
     "output_type": "execute_result"
    }
   ],
   "source": [
    "df_countries_clean = df_countries_raw[['CountryCode', 'CountryName']]\n",
    "df_countries_clean.head()"
   ]
  },
  {
   "cell_type": "code",
   "execution_count": 13,
   "metadata": {},
   "outputs": [
    {
     "data": {
      "text/plain": [
       "(238, 2)"
      ]
     },
     "execution_count": 13,
     "metadata": {},
     "output_type": "execute_result"
    }
   ],
   "source": [
    "df_countries_clean.shape"
   ]
  },
  {
   "cell_type": "code",
   "execution_count": 14,
   "metadata": {},
   "outputs": [
    {
     "data": {
      "text/plain": [
       "CountryCode    0\n",
       "CountryName    0\n",
       "dtype: int64"
      ]
     },
     "execution_count": 14,
     "metadata": {},
     "output_type": "execute_result"
    }
   ],
   "source": [
    "df_countries_clean.isna().sum()"
   ]
  },
  {
   "cell_type": "code",
   "execution_count": 15,
   "metadata": {},
   "outputs": [
    {
     "data": {
      "text/html": [
       "<div>\n",
       "<style scoped>\n",
       "    .dataframe tbody tr th:only-of-type {\n",
       "        vertical-align: middle;\n",
       "    }\n",
       "\n",
       "    .dataframe tbody tr th {\n",
       "        vertical-align: top;\n",
       "    }\n",
       "\n",
       "    .dataframe thead th {\n",
       "        text-align: right;\n",
       "    }\n",
       "</style>\n",
       "<table border=\"1\" class=\"dataframe\">\n",
       "  <thead>\n",
       "    <tr style=\"text-align: right;\">\n",
       "      <th></th>\n",
       "      <th>CountryCode</th>\n",
       "      <th>CountryName</th>\n",
       "    </tr>\n",
       "  </thead>\n",
       "  <tbody>\n",
       "  </tbody>\n",
       "</table>\n",
       "</div>"
      ],
      "text/plain": [
       "Empty DataFrame\n",
       "Columns: [CountryCode, CountryName]\n",
       "Index: []"
      ]
     },
     "execution_count": 15,
     "metadata": {},
     "output_type": "execute_result"
    }
   ],
   "source": [
    "df_countries_clean.loc[df_countries_clean['CountryCode'].isna()]"
   ]
  },
  {
   "cell_type": "code",
   "execution_count": 16,
   "metadata": {},
   "outputs": [
    {
     "name": "stderr",
     "output_type": "stream",
     "text": [
      "/tmp/ipykernel_4139516/3172609839.py:1: SettingWithCopyWarning: \n",
      "A value is trying to be set on a copy of a slice from a DataFrame\n",
      "\n",
      "See the caveats in the documentation: https://pandas.pydata.org/pandas-docs/stable/user_guide/indexing.html#returning-a-view-versus-a-copy\n",
      "  df_countries_clean.drop_duplicates(subset=[\"CountryCode\"], inplace=True)\n"
     ]
    }
   ],
   "source": [
    "df_countries_clean.drop_duplicates(subset=[\"CountryCode\"], inplace=True)"
   ]
  },
  {
   "cell_type": "code",
   "execution_count": 19,
   "metadata": {},
   "outputs": [
    {
     "name": "stdout",
     "output_type": "stream",
     "text": [
      "Shape df_countries_clean (238, 2)\n"
     ]
    }
   ],
   "source": [
    "print(\"Shape df_countries_clean\", df_countries_clean.shape)\n",
    "df_countries_clean.to_csv(data_path.joinpath('df_countries_clean.csv'), sep=';', header=True, index=False)"
   ]
  },
  {
   "attachments": {},
   "cell_type": "markdown",
   "metadata": {},
   "source": [
    "# Cities"
   ]
  },
  {
   "cell_type": "code",
   "execution_count": 61,
   "metadata": {},
   "outputs": [
    {
     "data": {
      "text/html": [
       "<div>\n",
       "<style scoped>\n",
       "    .dataframe tbody tr th:only-of-type {\n",
       "        vertical-align: middle;\n",
       "    }\n",
       "\n",
       "    .dataframe tbody tr th {\n",
       "        vertical-align: top;\n",
       "    }\n",
       "\n",
       "    .dataframe thead th {\n",
       "        text-align: right;\n",
       "    }\n",
       "</style>\n",
       "<table border=\"1\" class=\"dataframe\">\n",
       "  <thead>\n",
       "    <tr style=\"text-align: right;\">\n",
       "      <th></th>\n",
       "      <th>CityCode</th>\n",
       "      <th>CountryCode</th>\n",
       "      <th>UtcOffset</th>\n",
       "      <th>TimeZoneId</th>\n",
       "      <th>Names.Name.@LanguageCode</th>\n",
       "      <th>Names.Name.$</th>\n",
       "      <th>Airports.AirportCode</th>\n",
       "    </tr>\n",
       "  </thead>\n",
       "  <tbody>\n",
       "    <tr>\n",
       "      <th>0</th>\n",
       "      <td>AAA</td>\n",
       "      <td>PF</td>\n",
       "      <td>-10:00</td>\n",
       "      <td>Pacific/Tahiti</td>\n",
       "      <td>EN</td>\n",
       "      <td>Anaa</td>\n",
       "      <td>AAA</td>\n",
       "    </tr>\n",
       "    <tr>\n",
       "      <th>1</th>\n",
       "      <td>AAB</td>\n",
       "      <td>AU</td>\n",
       "      <td>+10:00</td>\n",
       "      <td>Australia/Brisbane</td>\n",
       "      <td>EN</td>\n",
       "      <td>Arrabury</td>\n",
       "      <td>AAB</td>\n",
       "    </tr>\n",
       "    <tr>\n",
       "      <th>2</th>\n",
       "      <td>AAC</td>\n",
       "      <td>EG</td>\n",
       "      <td>+02:00</td>\n",
       "      <td>Africa/Cairo</td>\n",
       "      <td>EN</td>\n",
       "      <td>El Arish</td>\n",
       "      <td>AAC</td>\n",
       "    </tr>\n",
       "    <tr>\n",
       "      <th>3</th>\n",
       "      <td>AAD</td>\n",
       "      <td>SO</td>\n",
       "      <td>+03:00</td>\n",
       "      <td>Africa/Mogadishu</td>\n",
       "      <td>EN</td>\n",
       "      <td>Adado</td>\n",
       "      <td>AAD</td>\n",
       "    </tr>\n",
       "    <tr>\n",
       "      <th>4</th>\n",
       "      <td>AAE</td>\n",
       "      <td>DZ</td>\n",
       "      <td>+01:00</td>\n",
       "      <td>Africa/Algiers</td>\n",
       "      <td>EN</td>\n",
       "      <td>Annaba</td>\n",
       "      <td>AAE</td>\n",
       "    </tr>\n",
       "  </tbody>\n",
       "</table>\n",
       "</div>"
      ],
      "text/plain": [
       "  CityCode CountryCode UtcOffset          TimeZoneId Names.Name.@LanguageCode  \\\n",
       "0      AAA          PF    -10:00      Pacific/Tahiti                       EN   \n",
       "1      AAB          AU    +10:00  Australia/Brisbane                       EN   \n",
       "2      AAC          EG    +02:00        Africa/Cairo                       EN   \n",
       "3      AAD          SO    +03:00    Africa/Mogadishu                       EN   \n",
       "4      AAE          DZ    +01:00      Africa/Algiers                       EN   \n",
       "\n",
       "  Names.Name.$ Airports.AirportCode  \n",
       "0         Anaa                  AAA  \n",
       "1     Arrabury                  AAB  \n",
       "2     El Arish                  AAC  \n",
       "3        Adado                  AAD  \n",
       "4       Annaba                  AAE  "
      ]
     },
     "execution_count": 61,
     "metadata": {},
     "output_type": "execute_result"
    }
   ],
   "source": [
    "df_cities_raw = pd.read_csv(data_path.joinpath('df_cities.csv'), sep=';', header=0, na_values=[\"\", \" \",np.nan], keep_default_na=False)\n",
    "df_cities_raw.head()"
   ]
  },
  {
   "cell_type": "code",
   "execution_count": 62,
   "metadata": {},
   "outputs": [
    {
     "data": {
      "text/html": [
       "<div>\n",
       "<style scoped>\n",
       "    .dataframe tbody tr th:only-of-type {\n",
       "        vertical-align: middle;\n",
       "    }\n",
       "\n",
       "    .dataframe tbody tr th {\n",
       "        vertical-align: top;\n",
       "    }\n",
       "\n",
       "    .dataframe thead th {\n",
       "        text-align: right;\n",
       "    }\n",
       "</style>\n",
       "<table border=\"1\" class=\"dataframe\">\n",
       "  <thead>\n",
       "    <tr style=\"text-align: right;\">\n",
       "      <th></th>\n",
       "      <th>CityCode</th>\n",
       "      <th>CountryCode</th>\n",
       "      <th>UtcOffset</th>\n",
       "      <th>TimeZoneId</th>\n",
       "      <th>LanguageCode</th>\n",
       "      <th>CityName</th>\n",
       "      <th>AirportCode</th>\n",
       "    </tr>\n",
       "  </thead>\n",
       "  <tbody>\n",
       "    <tr>\n",
       "      <th>0</th>\n",
       "      <td>AAA</td>\n",
       "      <td>PF</td>\n",
       "      <td>-10:00</td>\n",
       "      <td>Pacific/Tahiti</td>\n",
       "      <td>EN</td>\n",
       "      <td>Anaa</td>\n",
       "      <td>AAA</td>\n",
       "    </tr>\n",
       "    <tr>\n",
       "      <th>1</th>\n",
       "      <td>AAB</td>\n",
       "      <td>AU</td>\n",
       "      <td>+10:00</td>\n",
       "      <td>Australia/Brisbane</td>\n",
       "      <td>EN</td>\n",
       "      <td>Arrabury</td>\n",
       "      <td>AAB</td>\n",
       "    </tr>\n",
       "    <tr>\n",
       "      <th>2</th>\n",
       "      <td>AAC</td>\n",
       "      <td>EG</td>\n",
       "      <td>+02:00</td>\n",
       "      <td>Africa/Cairo</td>\n",
       "      <td>EN</td>\n",
       "      <td>El Arish</td>\n",
       "      <td>AAC</td>\n",
       "    </tr>\n",
       "    <tr>\n",
       "      <th>3</th>\n",
       "      <td>AAD</td>\n",
       "      <td>SO</td>\n",
       "      <td>+03:00</td>\n",
       "      <td>Africa/Mogadishu</td>\n",
       "      <td>EN</td>\n",
       "      <td>Adado</td>\n",
       "      <td>AAD</td>\n",
       "    </tr>\n",
       "    <tr>\n",
       "      <th>4</th>\n",
       "      <td>AAE</td>\n",
       "      <td>DZ</td>\n",
       "      <td>+01:00</td>\n",
       "      <td>Africa/Algiers</td>\n",
       "      <td>EN</td>\n",
       "      <td>Annaba</td>\n",
       "      <td>AAE</td>\n",
       "    </tr>\n",
       "  </tbody>\n",
       "</table>\n",
       "</div>"
      ],
      "text/plain": [
       "  CityCode CountryCode UtcOffset          TimeZoneId LanguageCode  CityName  \\\n",
       "0      AAA          PF    -10:00      Pacific/Tahiti           EN      Anaa   \n",
       "1      AAB          AU    +10:00  Australia/Brisbane           EN  Arrabury   \n",
       "2      AAC          EG    +02:00        Africa/Cairo           EN  El Arish   \n",
       "3      AAD          SO    +03:00    Africa/Mogadishu           EN     Adado   \n",
       "4      AAE          DZ    +01:00      Africa/Algiers           EN    Annaba   \n",
       "\n",
       "  AirportCode  \n",
       "0         AAA  \n",
       "1         AAB  \n",
       "2         AAC  \n",
       "3         AAD  \n",
       "4         AAE  "
      ]
     },
     "execution_count": 62,
     "metadata": {},
     "output_type": "execute_result"
    }
   ],
   "source": [
    "df_cities_raw.columns = ['CityCode', 'CountryCode', 'UtcOffset', 'TimeZoneId','LanguageCode', 'CityName', 'AirportCode']\n",
    "df_cities_raw.head()"
   ]
  },
  {
   "cell_type": "code",
   "execution_count": 63,
   "metadata": {},
   "outputs": [
    {
     "data": {
      "text/html": [
       "<div>\n",
       "<style scoped>\n",
       "    .dataframe tbody tr th:only-of-type {\n",
       "        vertical-align: middle;\n",
       "    }\n",
       "\n",
       "    .dataframe tbody tr th {\n",
       "        vertical-align: top;\n",
       "    }\n",
       "\n",
       "    .dataframe thead th {\n",
       "        text-align: right;\n",
       "    }\n",
       "</style>\n",
       "<table border=\"1\" class=\"dataframe\">\n",
       "  <thead>\n",
       "    <tr style=\"text-align: right;\">\n",
       "      <th></th>\n",
       "      <th>CityCode</th>\n",
       "      <th>CountryCode</th>\n",
       "      <th>UtcOffset</th>\n",
       "      <th>TimeZoneId</th>\n",
       "      <th>CityName</th>\n",
       "    </tr>\n",
       "  </thead>\n",
       "  <tbody>\n",
       "    <tr>\n",
       "      <th>0</th>\n",
       "      <td>AAA</td>\n",
       "      <td>PF</td>\n",
       "      <td>-10:00</td>\n",
       "      <td>Pacific/Tahiti</td>\n",
       "      <td>Anaa</td>\n",
       "    </tr>\n",
       "    <tr>\n",
       "      <th>1</th>\n",
       "      <td>AAB</td>\n",
       "      <td>AU</td>\n",
       "      <td>+10:00</td>\n",
       "      <td>Australia/Brisbane</td>\n",
       "      <td>Arrabury</td>\n",
       "    </tr>\n",
       "    <tr>\n",
       "      <th>2</th>\n",
       "      <td>AAC</td>\n",
       "      <td>EG</td>\n",
       "      <td>+02:00</td>\n",
       "      <td>Africa/Cairo</td>\n",
       "      <td>El Arish</td>\n",
       "    </tr>\n",
       "    <tr>\n",
       "      <th>3</th>\n",
       "      <td>AAD</td>\n",
       "      <td>SO</td>\n",
       "      <td>+03:00</td>\n",
       "      <td>Africa/Mogadishu</td>\n",
       "      <td>Adado</td>\n",
       "    </tr>\n",
       "    <tr>\n",
       "      <th>4</th>\n",
       "      <td>AAE</td>\n",
       "      <td>DZ</td>\n",
       "      <td>+01:00</td>\n",
       "      <td>Africa/Algiers</td>\n",
       "      <td>Annaba</td>\n",
       "    </tr>\n",
       "  </tbody>\n",
       "</table>\n",
       "</div>"
      ],
      "text/plain": [
       "  CityCode CountryCode UtcOffset          TimeZoneId  CityName\n",
       "0      AAA          PF    -10:00      Pacific/Tahiti      Anaa\n",
       "1      AAB          AU    +10:00  Australia/Brisbane  Arrabury\n",
       "2      AAC          EG    +02:00        Africa/Cairo  El Arish\n",
       "3      AAD          SO    +03:00    Africa/Mogadishu     Adado\n",
       "4      AAE          DZ    +01:00      Africa/Algiers    Annaba"
      ]
     },
     "execution_count": 63,
     "metadata": {},
     "output_type": "execute_result"
    }
   ],
   "source": [
    "df_cities_clean = df_cities_raw[['CityCode', 'CountryCode', 'UtcOffset', 'TimeZoneId', 'CityName']]\n",
    "df_cities_clean.head()"
   ]
  },
  {
   "cell_type": "code",
   "execution_count": 64,
   "metadata": {},
   "outputs": [
    {
     "data": {
      "text/plain": [
       "CityCode       0\n",
       "CountryCode    0\n",
       "UtcOffset      0\n",
       "TimeZoneId     0\n",
       "CityName       0\n",
       "dtype: int64"
      ]
     },
     "execution_count": 64,
     "metadata": {},
     "output_type": "execute_result"
    }
   ],
   "source": [
    "df_cities_clean.isna().sum()"
   ]
  },
  {
   "cell_type": "code",
   "execution_count": 65,
   "metadata": {},
   "outputs": [
    {
     "data": {
      "text/html": [
       "<div>\n",
       "<style scoped>\n",
       "    .dataframe tbody tr th:only-of-type {\n",
       "        vertical-align: middle;\n",
       "    }\n",
       "\n",
       "    .dataframe tbody tr th {\n",
       "        vertical-align: top;\n",
       "    }\n",
       "\n",
       "    .dataframe thead th {\n",
       "        text-align: right;\n",
       "    }\n",
       "</style>\n",
       "<table border=\"1\" class=\"dataframe\">\n",
       "  <thead>\n",
       "    <tr style=\"text-align: right;\">\n",
       "      <th></th>\n",
       "      <th>CityCode</th>\n",
       "      <th>CountryCode</th>\n",
       "      <th>UtcOffset</th>\n",
       "      <th>TimeZoneId</th>\n",
       "      <th>CityName</th>\n",
       "    </tr>\n",
       "  </thead>\n",
       "  <tbody>\n",
       "  </tbody>\n",
       "</table>\n",
       "</div>"
      ],
      "text/plain": [
       "Empty DataFrame\n",
       "Columns: [CityCode, CountryCode, UtcOffset, TimeZoneId, CityName]\n",
       "Index: []"
      ]
     },
     "execution_count": 65,
     "metadata": {},
     "output_type": "execute_result"
    }
   ],
   "source": [
    "df_cities_clean.loc[df_cities_clean['CountryCode'].isna()]"
   ]
  },
  {
   "cell_type": "code",
   "execution_count": 66,
   "metadata": {},
   "outputs": [
    {
     "data": {
      "text/html": [
       "<div>\n",
       "<style scoped>\n",
       "    .dataframe tbody tr th:only-of-type {\n",
       "        vertical-align: middle;\n",
       "    }\n",
       "\n",
       "    .dataframe tbody tr th {\n",
       "        vertical-align: top;\n",
       "    }\n",
       "\n",
       "    .dataframe thead th {\n",
       "        text-align: right;\n",
       "    }\n",
       "</style>\n",
       "<table border=\"1\" class=\"dataframe\">\n",
       "  <thead>\n",
       "    <tr style=\"text-align: right;\">\n",
       "      <th></th>\n",
       "      <th>CityCode</th>\n",
       "      <th>CountryCode</th>\n",
       "      <th>UtcOffset</th>\n",
       "      <th>TimeZoneId</th>\n",
       "      <th>CityName</th>\n",
       "    </tr>\n",
       "  </thead>\n",
       "  <tbody>\n",
       "  </tbody>\n",
       "</table>\n",
       "</div>"
      ],
      "text/plain": [
       "Empty DataFrame\n",
       "Columns: [CityCode, CountryCode, UtcOffset, TimeZoneId, CityName]\n",
       "Index: []"
      ]
     },
     "execution_count": 66,
     "metadata": {},
     "output_type": "execute_result"
    }
   ],
   "source": [
    "df_cities_clean.loc[df_cities_clean.duplicated()]"
   ]
  },
  {
   "cell_type": "code",
   "execution_count": 67,
   "metadata": {},
   "outputs": [
    {
     "name": "stdout",
     "output_type": "stream",
     "text": [
      "Shape df_cities_clean (10694, 5)\n"
     ]
    }
   ],
   "source": [
    "print(\"Shape df_cities_clean\", df_cities_clean.shape)\n",
    "df_cities_clean.to_csv(data_path.joinpath('df_cities_clean.csv'), sep=';', header=True, index=False)"
   ]
  },
  {
   "attachments": {},
   "cell_type": "markdown",
   "metadata": {},
   "source": [
    "# Airports"
   ]
  },
  {
   "cell_type": "code",
   "execution_count": 33,
   "metadata": {},
   "outputs": [
    {
     "data": {
      "text/html": [
       "<div>\n",
       "<style scoped>\n",
       "    .dataframe tbody tr th:only-of-type {\n",
       "        vertical-align: middle;\n",
       "    }\n",
       "\n",
       "    .dataframe tbody tr th {\n",
       "        vertical-align: top;\n",
       "    }\n",
       "\n",
       "    .dataframe thead th {\n",
       "        text-align: right;\n",
       "    }\n",
       "</style>\n",
       "<table border=\"1\" class=\"dataframe\">\n",
       "  <thead>\n",
       "    <tr style=\"text-align: right;\">\n",
       "      <th></th>\n",
       "      <th>AirportCode</th>\n",
       "      <th>CityCode</th>\n",
       "      <th>CountryCode</th>\n",
       "      <th>LocationType</th>\n",
       "      <th>UtcOffset</th>\n",
       "      <th>TimeZoneId</th>\n",
       "      <th>Position.Coordinate.Latitude</th>\n",
       "      <th>Position.Coordinate.Longitude</th>\n",
       "      <th>Names.Name.@LanguageCode</th>\n",
       "      <th>Names.Name.$</th>\n",
       "    </tr>\n",
       "  </thead>\n",
       "  <tbody>\n",
       "    <tr>\n",
       "      <th>0</th>\n",
       "      <td>AAA</td>\n",
       "      <td>AAA</td>\n",
       "      <td>PF</td>\n",
       "      <td>Airport</td>\n",
       "      <td>-10:00</td>\n",
       "      <td>Pacific/Tahiti</td>\n",
       "      <td>-17.3525</td>\n",
       "      <td>-145.5100</td>\n",
       "      <td>EN</td>\n",
       "      <td>Anaa</td>\n",
       "    </tr>\n",
       "    <tr>\n",
       "      <th>1</th>\n",
       "      <td>AAB</td>\n",
       "      <td>AAB</td>\n",
       "      <td>AU</td>\n",
       "      <td>Airport</td>\n",
       "      <td>+10:00</td>\n",
       "      <td>Australia/Brisbane</td>\n",
       "      <td>-26.6911</td>\n",
       "      <td>141.0472</td>\n",
       "      <td>EN</td>\n",
       "      <td>Arrabury</td>\n",
       "    </tr>\n",
       "    <tr>\n",
       "      <th>2</th>\n",
       "      <td>AAC</td>\n",
       "      <td>AAC</td>\n",
       "      <td>EG</td>\n",
       "      <td>Airport</td>\n",
       "      <td>+02:00</td>\n",
       "      <td>Africa/Cairo</td>\n",
       "      <td>31.0733</td>\n",
       "      <td>33.8358</td>\n",
       "      <td>EN</td>\n",
       "      <td>El Arish International</td>\n",
       "    </tr>\n",
       "    <tr>\n",
       "      <th>3</th>\n",
       "      <td>AAD</td>\n",
       "      <td>AAD</td>\n",
       "      <td>SO</td>\n",
       "      <td>Airport</td>\n",
       "      <td>+03:00</td>\n",
       "      <td>Africa/Mogadishu</td>\n",
       "      <td>6.0961</td>\n",
       "      <td>46.6375</td>\n",
       "      <td>EN</td>\n",
       "      <td>Adado</td>\n",
       "    </tr>\n",
       "    <tr>\n",
       "      <th>4</th>\n",
       "      <td>AAE</td>\n",
       "      <td>AAE</td>\n",
       "      <td>DZ</td>\n",
       "      <td>Airport</td>\n",
       "      <td>+01:00</td>\n",
       "      <td>Africa/Algiers</td>\n",
       "      <td>36.8222</td>\n",
       "      <td>7.8092</td>\n",
       "      <td>EN</td>\n",
       "      <td>Annaba Rabah Bitat</td>\n",
       "    </tr>\n",
       "  </tbody>\n",
       "</table>\n",
       "</div>"
      ],
      "text/plain": [
       "  AirportCode CityCode CountryCode LocationType UtcOffset          TimeZoneId  \\\n",
       "0         AAA      AAA          PF      Airport    -10:00      Pacific/Tahiti   \n",
       "1         AAB      AAB          AU      Airport    +10:00  Australia/Brisbane   \n",
       "2         AAC      AAC          EG      Airport    +02:00        Africa/Cairo   \n",
       "3         AAD      AAD          SO      Airport    +03:00    Africa/Mogadishu   \n",
       "4         AAE      AAE          DZ      Airport    +01:00      Africa/Algiers   \n",
       "\n",
       "   Position.Coordinate.Latitude  Position.Coordinate.Longitude  \\\n",
       "0                      -17.3525                      -145.5100   \n",
       "1                      -26.6911                       141.0472   \n",
       "2                       31.0733                        33.8358   \n",
       "3                        6.0961                        46.6375   \n",
       "4                       36.8222                         7.8092   \n",
       "\n",
       "  Names.Name.@LanguageCode            Names.Name.$  \n",
       "0                       EN                    Anaa  \n",
       "1                       EN                Arrabury  \n",
       "2                       EN  El Arish International  \n",
       "3                       EN                   Adado  \n",
       "4                       EN      Annaba Rabah Bitat  "
      ]
     },
     "execution_count": 33,
     "metadata": {},
     "output_type": "execute_result"
    }
   ],
   "source": [
    "df_airports_raw = pd.read_csv(data_path.joinpath('df_airports.csv'), sep=';', header=0, na_values=[\"\",np.nan], keep_default_na=False)\n",
    "df_airports_raw.head()"
   ]
  },
  {
   "cell_type": "code",
   "execution_count": 34,
   "metadata": {},
   "outputs": [
    {
     "data": {
      "text/html": [
       "<div>\n",
       "<style scoped>\n",
       "    .dataframe tbody tr th:only-of-type {\n",
       "        vertical-align: middle;\n",
       "    }\n",
       "\n",
       "    .dataframe tbody tr th {\n",
       "        vertical-align: top;\n",
       "    }\n",
       "\n",
       "    .dataframe thead th {\n",
       "        text-align: right;\n",
       "    }\n",
       "</style>\n",
       "<table border=\"1\" class=\"dataframe\">\n",
       "  <thead>\n",
       "    <tr style=\"text-align: right;\">\n",
       "      <th></th>\n",
       "      <th>AirportCode</th>\n",
       "      <th>CityCode</th>\n",
       "      <th>CountryCode</th>\n",
       "      <th>LocationType</th>\n",
       "      <th>UtcOffset</th>\n",
       "      <th>TimeZoneId</th>\n",
       "      <th>Latitude</th>\n",
       "      <th>Longitude</th>\n",
       "      <th>LanguageCode</th>\n",
       "      <th>AirportName</th>\n",
       "    </tr>\n",
       "  </thead>\n",
       "  <tbody>\n",
       "    <tr>\n",
       "      <th>0</th>\n",
       "      <td>AAA</td>\n",
       "      <td>AAA</td>\n",
       "      <td>PF</td>\n",
       "      <td>Airport</td>\n",
       "      <td>-10:00</td>\n",
       "      <td>Pacific/Tahiti</td>\n",
       "      <td>-17.3525</td>\n",
       "      <td>-145.5100</td>\n",
       "      <td>EN</td>\n",
       "      <td>Anaa</td>\n",
       "    </tr>\n",
       "    <tr>\n",
       "      <th>1</th>\n",
       "      <td>AAB</td>\n",
       "      <td>AAB</td>\n",
       "      <td>AU</td>\n",
       "      <td>Airport</td>\n",
       "      <td>+10:00</td>\n",
       "      <td>Australia/Brisbane</td>\n",
       "      <td>-26.6911</td>\n",
       "      <td>141.0472</td>\n",
       "      <td>EN</td>\n",
       "      <td>Arrabury</td>\n",
       "    </tr>\n",
       "    <tr>\n",
       "      <th>2</th>\n",
       "      <td>AAC</td>\n",
       "      <td>AAC</td>\n",
       "      <td>EG</td>\n",
       "      <td>Airport</td>\n",
       "      <td>+02:00</td>\n",
       "      <td>Africa/Cairo</td>\n",
       "      <td>31.0733</td>\n",
       "      <td>33.8358</td>\n",
       "      <td>EN</td>\n",
       "      <td>El Arish International</td>\n",
       "    </tr>\n",
       "    <tr>\n",
       "      <th>3</th>\n",
       "      <td>AAD</td>\n",
       "      <td>AAD</td>\n",
       "      <td>SO</td>\n",
       "      <td>Airport</td>\n",
       "      <td>+03:00</td>\n",
       "      <td>Africa/Mogadishu</td>\n",
       "      <td>6.0961</td>\n",
       "      <td>46.6375</td>\n",
       "      <td>EN</td>\n",
       "      <td>Adado</td>\n",
       "    </tr>\n",
       "    <tr>\n",
       "      <th>4</th>\n",
       "      <td>AAE</td>\n",
       "      <td>AAE</td>\n",
       "      <td>DZ</td>\n",
       "      <td>Airport</td>\n",
       "      <td>+01:00</td>\n",
       "      <td>Africa/Algiers</td>\n",
       "      <td>36.8222</td>\n",
       "      <td>7.8092</td>\n",
       "      <td>EN</td>\n",
       "      <td>Annaba Rabah Bitat</td>\n",
       "    </tr>\n",
       "  </tbody>\n",
       "</table>\n",
       "</div>"
      ],
      "text/plain": [
       "  AirportCode CityCode CountryCode LocationType UtcOffset          TimeZoneId  \\\n",
       "0         AAA      AAA          PF      Airport    -10:00      Pacific/Tahiti   \n",
       "1         AAB      AAB          AU      Airport    +10:00  Australia/Brisbane   \n",
       "2         AAC      AAC          EG      Airport    +02:00        Africa/Cairo   \n",
       "3         AAD      AAD          SO      Airport    +03:00    Africa/Mogadishu   \n",
       "4         AAE      AAE          DZ      Airport    +01:00      Africa/Algiers   \n",
       "\n",
       "   Latitude  Longitude LanguageCode             AirportName  \n",
       "0  -17.3525  -145.5100           EN                    Anaa  \n",
       "1  -26.6911   141.0472           EN                Arrabury  \n",
       "2   31.0733    33.8358           EN  El Arish International  \n",
       "3    6.0961    46.6375           EN                   Adado  \n",
       "4   36.8222     7.8092           EN      Annaba Rabah Bitat  "
      ]
     },
     "execution_count": 34,
     "metadata": {},
     "output_type": "execute_result"
    }
   ],
   "source": [
    "df_airports_raw.columns = ['AirportCode', 'CityCode', 'CountryCode', 'LocationType', 'UtcOffset', 'TimeZoneId', 'Latitude', 'Longitude', 'LanguageCode', 'AirportName']\n",
    "df_airports_raw.head()"
   ]
  },
  {
   "cell_type": "code",
   "execution_count": 35,
   "metadata": {},
   "outputs": [
    {
     "data": {
      "text/html": [
       "<div>\n",
       "<style scoped>\n",
       "    .dataframe tbody tr th:only-of-type {\n",
       "        vertical-align: middle;\n",
       "    }\n",
       "\n",
       "    .dataframe tbody tr th {\n",
       "        vertical-align: top;\n",
       "    }\n",
       "\n",
       "    .dataframe thead th {\n",
       "        text-align: right;\n",
       "    }\n",
       "</style>\n",
       "<table border=\"1\" class=\"dataframe\">\n",
       "  <thead>\n",
       "    <tr style=\"text-align: right;\">\n",
       "      <th></th>\n",
       "      <th>AirportCode</th>\n",
       "      <th>CityCode</th>\n",
       "      <th>CountryCode</th>\n",
       "      <th>LocationType</th>\n",
       "      <th>UtcOffset</th>\n",
       "      <th>TimeZoneId</th>\n",
       "      <th>Latitude</th>\n",
       "      <th>Longitude</th>\n",
       "      <th>AirportName</th>\n",
       "    </tr>\n",
       "  </thead>\n",
       "  <tbody>\n",
       "    <tr>\n",
       "      <th>0</th>\n",
       "      <td>AAA</td>\n",
       "      <td>AAA</td>\n",
       "      <td>PF</td>\n",
       "      <td>Airport</td>\n",
       "      <td>-10:00</td>\n",
       "      <td>Pacific/Tahiti</td>\n",
       "      <td>-17.3525</td>\n",
       "      <td>-145.5100</td>\n",
       "      <td>Anaa</td>\n",
       "    </tr>\n",
       "    <tr>\n",
       "      <th>1</th>\n",
       "      <td>AAB</td>\n",
       "      <td>AAB</td>\n",
       "      <td>AU</td>\n",
       "      <td>Airport</td>\n",
       "      <td>+10:00</td>\n",
       "      <td>Australia/Brisbane</td>\n",
       "      <td>-26.6911</td>\n",
       "      <td>141.0472</td>\n",
       "      <td>Arrabury</td>\n",
       "    </tr>\n",
       "    <tr>\n",
       "      <th>2</th>\n",
       "      <td>AAC</td>\n",
       "      <td>AAC</td>\n",
       "      <td>EG</td>\n",
       "      <td>Airport</td>\n",
       "      <td>+02:00</td>\n",
       "      <td>Africa/Cairo</td>\n",
       "      <td>31.0733</td>\n",
       "      <td>33.8358</td>\n",
       "      <td>El Arish International</td>\n",
       "    </tr>\n",
       "    <tr>\n",
       "      <th>3</th>\n",
       "      <td>AAD</td>\n",
       "      <td>AAD</td>\n",
       "      <td>SO</td>\n",
       "      <td>Airport</td>\n",
       "      <td>+03:00</td>\n",
       "      <td>Africa/Mogadishu</td>\n",
       "      <td>6.0961</td>\n",
       "      <td>46.6375</td>\n",
       "      <td>Adado</td>\n",
       "    </tr>\n",
       "    <tr>\n",
       "      <th>4</th>\n",
       "      <td>AAE</td>\n",
       "      <td>AAE</td>\n",
       "      <td>DZ</td>\n",
       "      <td>Airport</td>\n",
       "      <td>+01:00</td>\n",
       "      <td>Africa/Algiers</td>\n",
       "      <td>36.8222</td>\n",
       "      <td>7.8092</td>\n",
       "      <td>Annaba Rabah Bitat</td>\n",
       "    </tr>\n",
       "  </tbody>\n",
       "</table>\n",
       "</div>"
      ],
      "text/plain": [
       "  AirportCode CityCode CountryCode LocationType UtcOffset          TimeZoneId  \\\n",
       "0         AAA      AAA          PF      Airport    -10:00      Pacific/Tahiti   \n",
       "1         AAB      AAB          AU      Airport    +10:00  Australia/Brisbane   \n",
       "2         AAC      AAC          EG      Airport    +02:00        Africa/Cairo   \n",
       "3         AAD      AAD          SO      Airport    +03:00    Africa/Mogadishu   \n",
       "4         AAE      AAE          DZ      Airport    +01:00      Africa/Algiers   \n",
       "\n",
       "   Latitude  Longitude             AirportName  \n",
       "0  -17.3525  -145.5100                    Anaa  \n",
       "1  -26.6911   141.0472                Arrabury  \n",
       "2   31.0733    33.8358  El Arish International  \n",
       "3    6.0961    46.6375                   Adado  \n",
       "4   36.8222     7.8092      Annaba Rabah Bitat  "
      ]
     },
     "execution_count": 35,
     "metadata": {},
     "output_type": "execute_result"
    }
   ],
   "source": [
    "df_airports_clean = df_airports_raw[['AirportCode', 'CityCode', 'CountryCode', 'LocationType', 'UtcOffset', 'TimeZoneId', 'Latitude', 'Longitude', 'AirportName']]\n",
    "df_airports_clean.head()"
   ]
  },
  {
   "cell_type": "code",
   "execution_count": 36,
   "metadata": {},
   "outputs": [
    {
     "data": {
      "text/plain": [
       "AirportCode     0\n",
       "CityCode        0\n",
       "CountryCode     0\n",
       "LocationType    0\n",
       "UtcOffset       0\n",
       "TimeZoneId      0\n",
       "Latitude        0\n",
       "Longitude       0\n",
       "AirportName     2\n",
       "dtype: int64"
      ]
     },
     "execution_count": 36,
     "metadata": {},
     "output_type": "execute_result"
    }
   ],
   "source": [
    "df_airports_clean.isna().sum()"
   ]
  },
  {
   "cell_type": "code",
   "execution_count": 37,
   "metadata": {},
   "outputs": [
    {
     "data": {
      "text/html": [
       "<div>\n",
       "<style scoped>\n",
       "    .dataframe tbody tr th:only-of-type {\n",
       "        vertical-align: middle;\n",
       "    }\n",
       "\n",
       "    .dataframe tbody tr th {\n",
       "        vertical-align: top;\n",
       "    }\n",
       "\n",
       "    .dataframe thead th {\n",
       "        text-align: right;\n",
       "    }\n",
       "</style>\n",
       "<table border=\"1\" class=\"dataframe\">\n",
       "  <thead>\n",
       "    <tr style=\"text-align: right;\">\n",
       "      <th></th>\n",
       "      <th>AirportCode</th>\n",
       "      <th>CityCode</th>\n",
       "      <th>CountryCode</th>\n",
       "      <th>LocationType</th>\n",
       "      <th>UtcOffset</th>\n",
       "      <th>TimeZoneId</th>\n",
       "      <th>Latitude</th>\n",
       "      <th>Longitude</th>\n",
       "      <th>AirportName</th>\n",
       "    </tr>\n",
       "  </thead>\n",
       "  <tbody>\n",
       "    <tr>\n",
       "      <th>2966</th>\n",
       "      <td>GOM</td>\n",
       "      <td>GOM</td>\n",
       "      <td>CD</td>\n",
       "      <td>Airport</td>\n",
       "      <td>+02:00</td>\n",
       "      <td>Africa/Lubumbashi</td>\n",
       "      <td>-1.6708</td>\n",
       "      <td>29.2383</td>\n",
       "      <td>NaN</td>\n",
       "    </tr>\n",
       "    <tr>\n",
       "      <th>2987</th>\n",
       "      <td>GPS</td>\n",
       "      <td>GPS</td>\n",
       "      <td>EC</td>\n",
       "      <td>Airport</td>\n",
       "      <td>-06:00</td>\n",
       "      <td>Pacific/Galapagos</td>\n",
       "      <td>-0.4539</td>\n",
       "      <td>-90.2658</td>\n",
       "      <td>NaN</td>\n",
       "    </tr>\n",
       "  </tbody>\n",
       "</table>\n",
       "</div>"
      ],
      "text/plain": [
       "     AirportCode CityCode CountryCode LocationType UtcOffset  \\\n",
       "2966         GOM      GOM          CD      Airport    +02:00   \n",
       "2987         GPS      GPS          EC      Airport    -06:00   \n",
       "\n",
       "             TimeZoneId  Latitude  Longitude AirportName  \n",
       "2966  Africa/Lubumbashi   -1.6708    29.2383         NaN  \n",
       "2987  Pacific/Galapagos   -0.4539   -90.2658         NaN  "
      ]
     },
     "execution_count": 37,
     "metadata": {},
     "output_type": "execute_result"
    }
   ],
   "source": [
    "df_airports_clean.loc[df_airports_clean['AirportName'].isna()]"
   ]
  },
  {
   "cell_type": "code",
   "execution_count": 38,
   "metadata": {},
   "outputs": [
    {
     "data": {
      "text/html": [
       "<div>\n",
       "<style scoped>\n",
       "    .dataframe tbody tr th:only-of-type {\n",
       "        vertical-align: middle;\n",
       "    }\n",
       "\n",
       "    .dataframe tbody tr th {\n",
       "        vertical-align: top;\n",
       "    }\n",
       "\n",
       "    .dataframe thead th {\n",
       "        text-align: right;\n",
       "    }\n",
       "</style>\n",
       "<table border=\"1\" class=\"dataframe\">\n",
       "  <thead>\n",
       "    <tr style=\"text-align: right;\">\n",
       "      <th></th>\n",
       "      <th>AirportCode</th>\n",
       "      <th>CityCode</th>\n",
       "      <th>CountryCode</th>\n",
       "      <th>LocationType</th>\n",
       "      <th>UtcOffset</th>\n",
       "      <th>TimeZoneId</th>\n",
       "      <th>Latitude</th>\n",
       "      <th>Longitude</th>\n",
       "      <th>AirportName</th>\n",
       "    </tr>\n",
       "  </thead>\n",
       "  <tbody>\n",
       "  </tbody>\n",
       "</table>\n",
       "</div>"
      ],
      "text/plain": [
       "Empty DataFrame\n",
       "Columns: [AirportCode, CityCode, CountryCode, LocationType, UtcOffset, TimeZoneId, Latitude, Longitude, AirportName]\n",
       "Index: []"
      ]
     },
     "execution_count": 38,
     "metadata": {},
     "output_type": "execute_result"
    }
   ],
   "source": [
    "df_airports_clean.loc[df_airports_clean.duplicated()]"
   ]
  },
  {
   "cell_type": "code",
   "execution_count": 39,
   "metadata": {},
   "outputs": [
    {
     "name": "stderr",
     "output_type": "stream",
     "text": [
      "/tmp/ipykernel_4139516/386575301.py:1: SettingWithCopyWarning: \n",
      "A value is trying to be set on a copy of a slice from a DataFrame\n",
      "\n",
      "See the caveats in the documentation: https://pandas.pydata.org/pandas-docs/stable/user_guide/indexing.html#returning-a-view-versus-a-copy\n",
      "  df_airports_clean.drop_duplicates(subset=[\"AirportCode\"], inplace=True)\n"
     ]
    }
   ],
   "source": [
    "df_airports_clean.drop_duplicates(subset=[\"AirportCode\"], inplace=True)"
   ]
  },
  {
   "cell_type": "code",
   "execution_count": 40,
   "metadata": {},
   "outputs": [
    {
     "name": "stdout",
     "output_type": "stream",
     "text": [
      "Shape df_airports_clean (11676, 9)\n"
     ]
    }
   ],
   "source": [
    "print(\"Shape df_airports_clean\", df_airports_clean.shape)\n",
    "df_airports_clean.to_csv(data_path.joinpath('df_airports_clean.csv'), sep=';', header=True, index=False)"
   ]
  },
  {
   "attachments": {},
   "cell_type": "markdown",
   "metadata": {},
   "source": [
    "# Airlines"
   ]
  },
  {
   "cell_type": "code",
   "execution_count": 41,
   "metadata": {},
   "outputs": [
    {
     "data": {
      "text/html": [
       "<div>\n",
       "<style scoped>\n",
       "    .dataframe tbody tr th:only-of-type {\n",
       "        vertical-align: middle;\n",
       "    }\n",
       "\n",
       "    .dataframe tbody tr th {\n",
       "        vertical-align: top;\n",
       "    }\n",
       "\n",
       "    .dataframe thead th {\n",
       "        text-align: right;\n",
       "    }\n",
       "</style>\n",
       "<table border=\"1\" class=\"dataframe\">\n",
       "  <thead>\n",
       "    <tr style=\"text-align: right;\">\n",
       "      <th></th>\n",
       "      <th>AirlineID</th>\n",
       "      <th>AirlineID_ICAO</th>\n",
       "      <th>Names.Name.@LanguageCode</th>\n",
       "      <th>Names.Name.$</th>\n",
       "    </tr>\n",
       "  </thead>\n",
       "  <tbody>\n",
       "    <tr>\n",
       "      <th>0</th>\n",
       "      <td>0A</td>\n",
       "      <td>GNT</td>\n",
       "      <td>EN</td>\n",
       "      <td>Amber Air</td>\n",
       "    </tr>\n",
       "    <tr>\n",
       "      <th>1</th>\n",
       "      <td>0B</td>\n",
       "      <td>BMS</td>\n",
       "      <td>EN</td>\n",
       "      <td>Blue Air</td>\n",
       "    </tr>\n",
       "    <tr>\n",
       "      <th>2</th>\n",
       "      <td>0D</td>\n",
       "      <td>DWT</td>\n",
       "      <td>EN</td>\n",
       "      <td>Darwin Airline Sa</td>\n",
       "    </tr>\n",
       "    <tr>\n",
       "      <th>3</th>\n",
       "      <td>0J</td>\n",
       "      <td>PJZ</td>\n",
       "      <td>EN</td>\n",
       "      <td>Premium Jet Ag</td>\n",
       "    </tr>\n",
       "    <tr>\n",
       "      <th>4</th>\n",
       "      <td>0K</td>\n",
       "      <td>KRT</td>\n",
       "      <td>EN</td>\n",
       "      <td>Aircompany Kokshetau</td>\n",
       "    </tr>\n",
       "  </tbody>\n",
       "</table>\n",
       "</div>"
      ],
      "text/plain": [
       "  AirlineID AirlineID_ICAO Names.Name.@LanguageCode          Names.Name.$\n",
       "0        0A            GNT                       EN             Amber Air\n",
       "1        0B            BMS                       EN              Blue Air\n",
       "2        0D            DWT                       EN     Darwin Airline Sa\n",
       "3        0J            PJZ                       EN        Premium Jet Ag\n",
       "4        0K            KRT                       EN  Aircompany Kokshetau"
      ]
     },
     "execution_count": 41,
     "metadata": {},
     "output_type": "execute_result"
    }
   ],
   "source": [
    "df_airlines_raw = pd.read_csv(data_path.joinpath('df_airlines.csv'), sep=';', header=0, na_values=[\"\",np.nan], keep_default_na=False)\n",
    "df_airlines_raw.head()"
   ]
  },
  {
   "cell_type": "code",
   "execution_count": 42,
   "metadata": {},
   "outputs": [
    {
     "data": {
      "text/html": [
       "<div>\n",
       "<style scoped>\n",
       "    .dataframe tbody tr th:only-of-type {\n",
       "        vertical-align: middle;\n",
       "    }\n",
       "\n",
       "    .dataframe tbody tr th {\n",
       "        vertical-align: top;\n",
       "    }\n",
       "\n",
       "    .dataframe thead th {\n",
       "        text-align: right;\n",
       "    }\n",
       "</style>\n",
       "<table border=\"1\" class=\"dataframe\">\n",
       "  <thead>\n",
       "    <tr style=\"text-align: right;\">\n",
       "      <th></th>\n",
       "      <th>AirlineID</th>\n",
       "      <th>AirlineID_ICAO</th>\n",
       "      <th>LanguageCode</th>\n",
       "      <th>AirlineName</th>\n",
       "    </tr>\n",
       "  </thead>\n",
       "  <tbody>\n",
       "    <tr>\n",
       "      <th>0</th>\n",
       "      <td>0A</td>\n",
       "      <td>GNT</td>\n",
       "      <td>EN</td>\n",
       "      <td>Amber Air</td>\n",
       "    </tr>\n",
       "    <tr>\n",
       "      <th>1</th>\n",
       "      <td>0B</td>\n",
       "      <td>BMS</td>\n",
       "      <td>EN</td>\n",
       "      <td>Blue Air</td>\n",
       "    </tr>\n",
       "    <tr>\n",
       "      <th>2</th>\n",
       "      <td>0D</td>\n",
       "      <td>DWT</td>\n",
       "      <td>EN</td>\n",
       "      <td>Darwin Airline Sa</td>\n",
       "    </tr>\n",
       "    <tr>\n",
       "      <th>3</th>\n",
       "      <td>0J</td>\n",
       "      <td>PJZ</td>\n",
       "      <td>EN</td>\n",
       "      <td>Premium Jet Ag</td>\n",
       "    </tr>\n",
       "    <tr>\n",
       "      <th>4</th>\n",
       "      <td>0K</td>\n",
       "      <td>KRT</td>\n",
       "      <td>EN</td>\n",
       "      <td>Aircompany Kokshetau</td>\n",
       "    </tr>\n",
       "  </tbody>\n",
       "</table>\n",
       "</div>"
      ],
      "text/plain": [
       "  AirlineID AirlineID_ICAO LanguageCode           AirlineName\n",
       "0        0A            GNT           EN             Amber Air\n",
       "1        0B            BMS           EN              Blue Air\n",
       "2        0D            DWT           EN     Darwin Airline Sa\n",
       "3        0J            PJZ           EN        Premium Jet Ag\n",
       "4        0K            KRT           EN  Aircompany Kokshetau"
      ]
     },
     "execution_count": 42,
     "metadata": {},
     "output_type": "execute_result"
    }
   ],
   "source": [
    "df_airlines_raw.columns = ['AirlineID', 'AirlineID_ICAO', 'LanguageCode', 'AirlineName']\n",
    "df_airlines_raw.head()"
   ]
  },
  {
   "cell_type": "code",
   "execution_count": 43,
   "metadata": {},
   "outputs": [
    {
     "data": {
      "text/html": [
       "<div>\n",
       "<style scoped>\n",
       "    .dataframe tbody tr th:only-of-type {\n",
       "        vertical-align: middle;\n",
       "    }\n",
       "\n",
       "    .dataframe tbody tr th {\n",
       "        vertical-align: top;\n",
       "    }\n",
       "\n",
       "    .dataframe thead th {\n",
       "        text-align: right;\n",
       "    }\n",
       "</style>\n",
       "<table border=\"1\" class=\"dataframe\">\n",
       "  <thead>\n",
       "    <tr style=\"text-align: right;\">\n",
       "      <th></th>\n",
       "      <th>AirlineID</th>\n",
       "      <th>AirlineID_ICAO</th>\n",
       "      <th>AirlineName</th>\n",
       "    </tr>\n",
       "  </thead>\n",
       "  <tbody>\n",
       "    <tr>\n",
       "      <th>0</th>\n",
       "      <td>0A</td>\n",
       "      <td>GNT</td>\n",
       "      <td>Amber Air</td>\n",
       "    </tr>\n",
       "    <tr>\n",
       "      <th>1</th>\n",
       "      <td>0B</td>\n",
       "      <td>BMS</td>\n",
       "      <td>Blue Air</td>\n",
       "    </tr>\n",
       "    <tr>\n",
       "      <th>2</th>\n",
       "      <td>0D</td>\n",
       "      <td>DWT</td>\n",
       "      <td>Darwin Airline Sa</td>\n",
       "    </tr>\n",
       "    <tr>\n",
       "      <th>3</th>\n",
       "      <td>0J</td>\n",
       "      <td>PJZ</td>\n",
       "      <td>Premium Jet Ag</td>\n",
       "    </tr>\n",
       "    <tr>\n",
       "      <th>4</th>\n",
       "      <td>0K</td>\n",
       "      <td>KRT</td>\n",
       "      <td>Aircompany Kokshetau</td>\n",
       "    </tr>\n",
       "  </tbody>\n",
       "</table>\n",
       "</div>"
      ],
      "text/plain": [
       "  AirlineID AirlineID_ICAO           AirlineName\n",
       "0        0A            GNT             Amber Air\n",
       "1        0B            BMS              Blue Air\n",
       "2        0D            DWT     Darwin Airline Sa\n",
       "3        0J            PJZ        Premium Jet Ag\n",
       "4        0K            KRT  Aircompany Kokshetau"
      ]
     },
     "execution_count": 43,
     "metadata": {},
     "output_type": "execute_result"
    }
   ],
   "source": [
    "df_airlines_clean = df_airlines_raw[['AirlineID', 'AirlineID_ICAO', 'AirlineName']]\n",
    "df_airlines_clean.head()"
   ]
  },
  {
   "cell_type": "code",
   "execution_count": 46,
   "metadata": {},
   "outputs": [
    {
     "data": {
      "text/plain": [
       "AirlineID           0\n",
       "AirlineID_ICAO    122\n",
       "AirlineName         0\n",
       "dtype: int64"
      ]
     },
     "execution_count": 46,
     "metadata": {},
     "output_type": "execute_result"
    }
   ],
   "source": [
    "df_airlines_clean.isna().sum()"
   ]
  },
  {
   "cell_type": "code",
   "execution_count": 45,
   "metadata": {},
   "outputs": [
    {
     "data": {
      "text/html": [
       "<div>\n",
       "<style scoped>\n",
       "    .dataframe tbody tr th:only-of-type {\n",
       "        vertical-align: middle;\n",
       "    }\n",
       "\n",
       "    .dataframe tbody tr th {\n",
       "        vertical-align: top;\n",
       "    }\n",
       "\n",
       "    .dataframe thead th {\n",
       "        text-align: right;\n",
       "    }\n",
       "</style>\n",
       "<table border=\"1\" class=\"dataframe\">\n",
       "  <thead>\n",
       "    <tr style=\"text-align: right;\">\n",
       "      <th></th>\n",
       "      <th>AirlineID</th>\n",
       "      <th>AirlineID_ICAO</th>\n",
       "      <th>AirlineName</th>\n",
       "    </tr>\n",
       "  </thead>\n",
       "  <tbody>\n",
       "  </tbody>\n",
       "</table>\n",
       "</div>"
      ],
      "text/plain": [
       "Empty DataFrame\n",
       "Columns: [AirlineID, AirlineID_ICAO, AirlineName]\n",
       "Index: []"
      ]
     },
     "execution_count": 45,
     "metadata": {},
     "output_type": "execute_result"
    }
   ],
   "source": [
    "df_airlines_clean.loc[df_airlines_clean['AirlineID'].isna()]"
   ]
  },
  {
   "cell_type": "code",
   "execution_count": 47,
   "metadata": {},
   "outputs": [
    {
     "data": {
      "text/html": [
       "<div>\n",
       "<style scoped>\n",
       "    .dataframe tbody tr th:only-of-type {\n",
       "        vertical-align: middle;\n",
       "    }\n",
       "\n",
       "    .dataframe tbody tr th {\n",
       "        vertical-align: top;\n",
       "    }\n",
       "\n",
       "    .dataframe thead th {\n",
       "        text-align: right;\n",
       "    }\n",
       "</style>\n",
       "<table border=\"1\" class=\"dataframe\">\n",
       "  <thead>\n",
       "    <tr style=\"text-align: right;\">\n",
       "      <th></th>\n",
       "      <th>AirlineID</th>\n",
       "      <th>AirlineID_ICAO</th>\n",
       "      <th>AirlineName</th>\n",
       "    </tr>\n",
       "  </thead>\n",
       "  <tbody>\n",
       "  </tbody>\n",
       "</table>\n",
       "</div>"
      ],
      "text/plain": [
       "Empty DataFrame\n",
       "Columns: [AirlineID, AirlineID_ICAO, AirlineName]\n",
       "Index: []"
      ]
     },
     "execution_count": 47,
     "metadata": {},
     "output_type": "execute_result"
    }
   ],
   "source": [
    "df_airlines_clean.loc[df_airlines_clean.duplicated()]"
   ]
  },
  {
   "cell_type": "code",
   "execution_count": 48,
   "metadata": {},
   "outputs": [
    {
     "name": "stderr",
     "output_type": "stream",
     "text": [
      "/tmp/ipykernel_4139516/1683240196.py:1: SettingWithCopyWarning: \n",
      "A value is trying to be set on a copy of a slice from a DataFrame\n",
      "\n",
      "See the caveats in the documentation: https://pandas.pydata.org/pandas-docs/stable/user_guide/indexing.html#returning-a-view-versus-a-copy\n",
      "  df_airlines_clean.drop_duplicates(subset=['AirlineID'], inplace=True)\n"
     ]
    }
   ],
   "source": [
    "df_airlines_clean.drop_duplicates(subset=['AirlineID'], inplace=True)"
   ]
  },
  {
   "cell_type": "code",
   "execution_count": 49,
   "metadata": {},
   "outputs": [
    {
     "name": "stdout",
     "output_type": "stream",
     "text": [
      "Shape df_airlines_clean (1127, 3)\n"
     ]
    }
   ],
   "source": [
    "print(\"Shape df_airlines_clean\", df_airlines_clean.shape)\n",
    "df_airlines_clean.to_csv(data_path.joinpath('df_airlines_clean.csv'), sep=';', header=True, index=False)"
   ]
  },
  {
   "cell_type": "markdown",
   "metadata": {},
   "source": [
    "# Aircrafts"
   ]
  },
  {
   "cell_type": "code",
   "execution_count": 50,
   "metadata": {},
   "outputs": [
    {
     "data": {
      "text/html": [
       "<div>\n",
       "<style scoped>\n",
       "    .dataframe tbody tr th:only-of-type {\n",
       "        vertical-align: middle;\n",
       "    }\n",
       "\n",
       "    .dataframe tbody tr th {\n",
       "        vertical-align: top;\n",
       "    }\n",
       "\n",
       "    .dataframe thead th {\n",
       "        text-align: right;\n",
       "    }\n",
       "</style>\n",
       "<table border=\"1\" class=\"dataframe\">\n",
       "  <thead>\n",
       "    <tr style=\"text-align: right;\">\n",
       "      <th></th>\n",
       "      <th>AircraftCode</th>\n",
       "      <th>AirlineEquipCode</th>\n",
       "      <th>Names.Name.@LanguageCode</th>\n",
       "      <th>Names.Name.$</th>\n",
       "    </tr>\n",
       "  </thead>\n",
       "  <tbody>\n",
       "    <tr>\n",
       "      <th>0</th>\n",
       "      <td>100</td>\n",
       "      <td>F100</td>\n",
       "      <td>EN</td>\n",
       "      <td>Fokker 100</td>\n",
       "    </tr>\n",
       "    <tr>\n",
       "      <th>1</th>\n",
       "      <td>141</td>\n",
       "      <td>B461</td>\n",
       "      <td>EN</td>\n",
       "      <td>BAE Systems 146-100 Passenger</td>\n",
       "    </tr>\n",
       "    <tr>\n",
       "      <th>2</th>\n",
       "      <td>142</td>\n",
       "      <td>B462</td>\n",
       "      <td>EN</td>\n",
       "      <td>BAE Systems 146-200 Passenger</td>\n",
       "    </tr>\n",
       "    <tr>\n",
       "      <th>3</th>\n",
       "      <td>143</td>\n",
       "      <td>B463</td>\n",
       "      <td>EN</td>\n",
       "      <td>BAE Systems 146-300 Passenger</td>\n",
       "    </tr>\n",
       "    <tr>\n",
       "      <th>4</th>\n",
       "      <td>14X</td>\n",
       "      <td>B461</td>\n",
       "      <td>EN</td>\n",
       "      <td>BAE Systems 146-100 Freighter</td>\n",
       "    </tr>\n",
       "  </tbody>\n",
       "</table>\n",
       "</div>"
      ],
      "text/plain": [
       "  AircraftCode AirlineEquipCode Names.Name.@LanguageCode  \\\n",
       "0          100             F100                       EN   \n",
       "1          141             B461                       EN   \n",
       "2          142             B462                       EN   \n",
       "3          143             B463                       EN   \n",
       "4          14X             B461                       EN   \n",
       "\n",
       "                    Names.Name.$  \n",
       "0                     Fokker 100  \n",
       "1  BAE Systems 146-100 Passenger  \n",
       "2  BAE Systems 146-200 Passenger  \n",
       "3  BAE Systems 146-300 Passenger  \n",
       "4  BAE Systems 146-100 Freighter  "
      ]
     },
     "execution_count": 50,
     "metadata": {},
     "output_type": "execute_result"
    }
   ],
   "source": [
    "df_aircrafts_raw = pd.read_csv(data_path.joinpath('df_aircrafts.csv'), sep=';', header=0, na_values=[\"\",np.nan], keep_default_na=False)\n",
    "df_aircrafts_raw.head()"
   ]
  },
  {
   "cell_type": "code",
   "execution_count": 51,
   "metadata": {},
   "outputs": [
    {
     "data": {
      "text/html": [
       "<div>\n",
       "<style scoped>\n",
       "    .dataframe tbody tr th:only-of-type {\n",
       "        vertical-align: middle;\n",
       "    }\n",
       "\n",
       "    .dataframe tbody tr th {\n",
       "        vertical-align: top;\n",
       "    }\n",
       "\n",
       "    .dataframe thead th {\n",
       "        text-align: right;\n",
       "    }\n",
       "</style>\n",
       "<table border=\"1\" class=\"dataframe\">\n",
       "  <thead>\n",
       "    <tr style=\"text-align: right;\">\n",
       "      <th></th>\n",
       "      <th>AircraftCode</th>\n",
       "      <th>AirlineEquipCode</th>\n",
       "      <th>LanguageCode</th>\n",
       "      <th>AircraftName</th>\n",
       "    </tr>\n",
       "  </thead>\n",
       "  <tbody>\n",
       "    <tr>\n",
       "      <th>0</th>\n",
       "      <td>100</td>\n",
       "      <td>F100</td>\n",
       "      <td>EN</td>\n",
       "      <td>Fokker 100</td>\n",
       "    </tr>\n",
       "    <tr>\n",
       "      <th>1</th>\n",
       "      <td>141</td>\n",
       "      <td>B461</td>\n",
       "      <td>EN</td>\n",
       "      <td>BAE Systems 146-100 Passenger</td>\n",
       "    </tr>\n",
       "    <tr>\n",
       "      <th>2</th>\n",
       "      <td>142</td>\n",
       "      <td>B462</td>\n",
       "      <td>EN</td>\n",
       "      <td>BAE Systems 146-200 Passenger</td>\n",
       "    </tr>\n",
       "    <tr>\n",
       "      <th>3</th>\n",
       "      <td>143</td>\n",
       "      <td>B463</td>\n",
       "      <td>EN</td>\n",
       "      <td>BAE Systems 146-300 Passenger</td>\n",
       "    </tr>\n",
       "    <tr>\n",
       "      <th>4</th>\n",
       "      <td>14X</td>\n",
       "      <td>B461</td>\n",
       "      <td>EN</td>\n",
       "      <td>BAE Systems 146-100 Freighter</td>\n",
       "    </tr>\n",
       "  </tbody>\n",
       "</table>\n",
       "</div>"
      ],
      "text/plain": [
       "  AircraftCode AirlineEquipCode LanguageCode                   AircraftName\n",
       "0          100             F100           EN                     Fokker 100\n",
       "1          141             B461           EN  BAE Systems 146-100 Passenger\n",
       "2          142             B462           EN  BAE Systems 146-200 Passenger\n",
       "3          143             B463           EN  BAE Systems 146-300 Passenger\n",
       "4          14X             B461           EN  BAE Systems 146-100 Freighter"
      ]
     },
     "execution_count": 51,
     "metadata": {},
     "output_type": "execute_result"
    }
   ],
   "source": [
    "df_aircrafts_raw.columns = ['AircraftCode', 'AirlineEquipCode', 'LanguageCode', 'AircraftName']\n",
    "df_aircrafts_raw.head()"
   ]
  },
  {
   "cell_type": "code",
   "execution_count": 52,
   "metadata": {},
   "outputs": [
    {
     "data": {
      "text/html": [
       "<div>\n",
       "<style scoped>\n",
       "    .dataframe tbody tr th:only-of-type {\n",
       "        vertical-align: middle;\n",
       "    }\n",
       "\n",
       "    .dataframe tbody tr th {\n",
       "        vertical-align: top;\n",
       "    }\n",
       "\n",
       "    .dataframe thead th {\n",
       "        text-align: right;\n",
       "    }\n",
       "</style>\n",
       "<table border=\"1\" class=\"dataframe\">\n",
       "  <thead>\n",
       "    <tr style=\"text-align: right;\">\n",
       "      <th></th>\n",
       "      <th>AircraftCode</th>\n",
       "      <th>AirlineEquipCode</th>\n",
       "      <th>AircraftName</th>\n",
       "    </tr>\n",
       "  </thead>\n",
       "  <tbody>\n",
       "    <tr>\n",
       "      <th>0</th>\n",
       "      <td>100</td>\n",
       "      <td>F100</td>\n",
       "      <td>Fokker 100</td>\n",
       "    </tr>\n",
       "    <tr>\n",
       "      <th>1</th>\n",
       "      <td>141</td>\n",
       "      <td>B461</td>\n",
       "      <td>BAE Systems 146-100 Passenger</td>\n",
       "    </tr>\n",
       "    <tr>\n",
       "      <th>2</th>\n",
       "      <td>142</td>\n",
       "      <td>B462</td>\n",
       "      <td>BAE Systems 146-200 Passenger</td>\n",
       "    </tr>\n",
       "    <tr>\n",
       "      <th>3</th>\n",
       "      <td>143</td>\n",
       "      <td>B463</td>\n",
       "      <td>BAE Systems 146-300 Passenger</td>\n",
       "    </tr>\n",
       "    <tr>\n",
       "      <th>4</th>\n",
       "      <td>14X</td>\n",
       "      <td>B461</td>\n",
       "      <td>BAE Systems 146-100 Freighter</td>\n",
       "    </tr>\n",
       "  </tbody>\n",
       "</table>\n",
       "</div>"
      ],
      "text/plain": [
       "  AircraftCode AirlineEquipCode                   AircraftName\n",
       "0          100             F100                     Fokker 100\n",
       "1          141             B461  BAE Systems 146-100 Passenger\n",
       "2          142             B462  BAE Systems 146-200 Passenger\n",
       "3          143             B463  BAE Systems 146-300 Passenger\n",
       "4          14X             B461  BAE Systems 146-100 Freighter"
      ]
     },
     "execution_count": 52,
     "metadata": {},
     "output_type": "execute_result"
    }
   ],
   "source": [
    "df_aircrafts_clean = df_aircrafts_raw[['AircraftCode', 'AirlineEquipCode', 'AircraftName']]\n",
    "df_aircrafts_clean.head()"
   ]
  },
  {
   "cell_type": "code",
   "execution_count": 53,
   "metadata": {},
   "outputs": [
    {
     "data": {
      "text/plain": [
       "AircraftCode        0\n",
       "AirlineEquipCode    1\n",
       "AircraftName        1\n",
       "dtype: int64"
      ]
     },
     "execution_count": 53,
     "metadata": {},
     "output_type": "execute_result"
    }
   ],
   "source": [
    "df_aircrafts_clean.isna().sum()"
   ]
  },
  {
   "cell_type": "code",
   "execution_count": 54,
   "metadata": {},
   "outputs": [
    {
     "data": {
      "text/html": [
       "<div>\n",
       "<style scoped>\n",
       "    .dataframe tbody tr th:only-of-type {\n",
       "        vertical-align: middle;\n",
       "    }\n",
       "\n",
       "    .dataframe tbody tr th {\n",
       "        vertical-align: top;\n",
       "    }\n",
       "\n",
       "    .dataframe thead th {\n",
       "        text-align: right;\n",
       "    }\n",
       "</style>\n",
       "<table border=\"1\" class=\"dataframe\">\n",
       "  <thead>\n",
       "    <tr style=\"text-align: right;\">\n",
       "      <th></th>\n",
       "      <th>AircraftCode</th>\n",
       "      <th>AirlineEquipCode</th>\n",
       "      <th>AircraftName</th>\n",
       "    </tr>\n",
       "  </thead>\n",
       "  <tbody>\n",
       "  </tbody>\n",
       "</table>\n",
       "</div>"
      ],
      "text/plain": [
       "Empty DataFrame\n",
       "Columns: [AircraftCode, AirlineEquipCode, AircraftName]\n",
       "Index: []"
      ]
     },
     "execution_count": 54,
     "metadata": {},
     "output_type": "execute_result"
    }
   ],
   "source": [
    "df_aircrafts_clean.loc[df_aircrafts_clean.duplicated()]"
   ]
  },
  {
   "cell_type": "code",
   "execution_count": 83,
   "metadata": {},
   "outputs": [
    {
     "name": "stderr",
     "output_type": "stream",
     "text": [
      "/tmp/ipykernel_968960/2723690214.py:1: SettingWithCopyWarning: \n",
      "A value is trying to be set on a copy of a slice from a DataFrame\n",
      "\n",
      "See the caveats in the documentation: https://pandas.pydata.org/pandas-docs/stable/user_guide/indexing.html#returning-a-view-versus-a-copy\n",
      "  df_aircrafts_clean.drop_duplicates(subset=['AircraftCode'], inplace=True)\n"
     ]
    }
   ],
   "source": [
    "df_aircrafts_clean.drop_duplicates(subset=['AircraftCode'], inplace=True)"
   ]
  },
  {
   "cell_type": "code",
   "execution_count": 55,
   "metadata": {},
   "outputs": [
    {
     "name": "stdout",
     "output_type": "stream",
     "text": [
      "Shape of df_aircrafts_clean (380, 3)\n"
     ]
    }
   ],
   "source": [
    "print(\"Shape of df_aircrafts_clean\", df_aircrafts_clean.shape)\n",
    "df_aircrafts_clean.to_csv(data_path.joinpath('df_aircrafts_clean.csv'), sep=';', header=True, index=False)"
   ]
  },
  {
   "attachments": {},
   "cell_type": "markdown",
   "metadata": {},
   "source": [
    "# Value Counts"
   ]
  },
  {
   "cell_type": "code",
   "execution_count": 56,
   "metadata": {},
   "outputs": [],
   "source": [
    "lst_df = [df_aircrafts_clean, df_airlines_clean, df_airports_clean, df_cities_clean, df_countries_clean]"
   ]
  },
  {
   "cell_type": "code",
   "execution_count": 57,
   "metadata": {},
   "outputs": [
    {
     "data": {
      "text/plain": [
       "AircraftCode  AirlineEquipCode  AircraftName                                \n",
       "100           F100              Fokker 100                                      1\n",
       "DHR           DH2T              De Havilland (Bombardier) DHC-2 Turbo Beaver    1\n",
       "EC5           EC55              Eurocopter EC155                                1\n",
       "EC3           EC30              Eurocopter EC130                                1\n",
       "EA5           EA50              Eclipse 500                                     1\n",
       "                                                                               ..\n",
       "A81           A148              Antonov AN148-100                               1\n",
       "A5F           A225              Antonov An-225                                  1\n",
       "A58           ZZZZ              Antonov An-158                                  1\n",
       "A4F           A124              Antonov An-124 Ruslan                           1\n",
       "YS1           YS11              NAMC YS-11                                      1\n",
       "Length: 379, dtype: int64"
      ]
     },
     "metadata": {},
     "output_type": "display_data"
    },
    {
     "name": "stdout",
     "output_type": "stream",
     "text": [
      "\n",
      "\n",
      "\n"
     ]
    },
    {
     "data": {
      "text/plain": [
       "AirlineID  AirlineID_ICAO  AirlineName                   \n",
       "0A         GNT             Amber Air                         1\n",
       "PB         SPR             Pal Airlines                      1\n",
       "OX         OEA             Orient Thai Airlines              1\n",
       "OY         OAE             Omni Air International            1\n",
       "OZ         AAR             Asiana Airlines                   1\n",
       "                                                            ..\n",
       "EW         EWG             Eurowings                         1\n",
       "EX         SDO             Aerolineas Santo Domingo_ S.A.    1\n",
       "EXN        EXN             Exin                              1\n",
       "EXT        EXT             Night Express_ Frankfurt          1\n",
       "ZY         CCO             China Air Cargo                   1\n",
       "Length: 1005, dtype: int64"
      ]
     },
     "metadata": {},
     "output_type": "display_data"
    },
    {
     "name": "stdout",
     "output_type": "stream",
     "text": [
      "\n",
      "\n",
      "\n"
     ]
    },
    {
     "data": {
      "text/plain": [
       "AirportCode  CityCode  CountryCode  LocationType  UtcOffset  TimeZoneId           Latitude  Longitude  AirportName                   \n",
       "AAA          AAA       PF           Airport       -10:00     Pacific/Tahiti       -17.3525  -145.5100  Anaa                              1\n",
       "RKO          RKO       ID           Airport       +07:00     Asia/Pontianak       -2.0833    99.6833   Sipora                            1\n",
       "RKR          RKR       US           Airport       -06:00     America/Chicago       35.0500  -94.6167   Poteau Robert S Kerr              1\n",
       "RKS          RKS       US           Airport       -07:00     America/Denver        41.5947  -109.0656  Rock Springs                      1\n",
       "RKT          RKT       AE           Airport       +04:00     Asia/Dubai            25.6136   55.9389   Ras Al Khaimah International      1\n",
       "                                                                                                                                        ..\n",
       "JGX          JGX       US           Airport       -08:00     America/Los_Angeles   34.1333  -118.2667  Glendale Heliport                 1\n",
       "JHB          JHB       MY           Airport       +08:00     Asia/Kuching          1.6389    103.6703  Johor Bahru                       1\n",
       "JHC          JHC       US           Airport       -05:00     America/New_York      40.7444  -73.6083   Garden City Heliport              1\n",
       "JHE          AGH       SE           Airport       +01:00     Europe/Stockholm      56.0500   12.7000   Angelholm/Helsingborg Heliport    1\n",
       "ZZZ          IST       TR           Airport       +03:00     Europe/Istanbul       40.9769   28.8150   Istanbul                          1\n",
       "Length: 11674, dtype: int64"
      ]
     },
     "metadata": {},
     "output_type": "display_data"
    },
    {
     "name": "stdout",
     "output_type": "stream",
     "text": [
      "\n",
      "\n",
      "\n"
     ]
    },
    {
     "data": {
      "text/plain": [
       "CityCode  CountryCode  UtcOffset  TimeZoneId            CityName   \n",
       "AAA       PF           -10:00     Pacific/Tahiti        Anaa           1\n",
       "RAS       IR           +03:30     Asia/Tehran           Rasht          1\n",
       "RAU       BD           +06:00     Asia/Dhaka            Rangpur        1\n",
       "RAV       CO           -05:00     America/Bogota        Cravo Norte    1\n",
       "RAW       PG           +11:00     Pacific/Bougainville  Arawa          1\n",
       "                                                                      ..\n",
       "JGS       CN           +08:00     Asia/Shanghai         Ji'an          1\n",
       "JGX       US           -08:00     America/Los_Angeles   Glendale       1\n",
       "JHB       MY           +08:00     Asia/Kuching          Johor Bahru    1\n",
       "JHC       US           -05:00     America/New_York      Garden City    1\n",
       "ZZU       MW           +02:00     Africa/Blantyre       Mzuzu          1\n",
       "Length: 10693, dtype: int64"
      ]
     },
     "metadata": {},
     "output_type": "display_data"
    },
    {
     "name": "stdout",
     "output_type": "stream",
     "text": [
      "\n",
      "\n",
      "\n"
     ]
    },
    {
     "data": {
      "text/plain": [
       "CountryCode  CountryName      \n",
       "AD           Andorra              1\n",
       "PA           Panama               1\n",
       "NC           New Caledonia        1\n",
       "NE           Niger                1\n",
       "NF           Norfolk Island       1\n",
       "                                 ..\n",
       "GQ           Equatorial Guinea    1\n",
       "GR           Greece               1\n",
       "GT           Guatemala            1\n",
       "GU           Guam                 1\n",
       "ZW           Zimbabwe             1\n",
       "Length: 238, dtype: int64"
      ]
     },
     "metadata": {},
     "output_type": "display_data"
    },
    {
     "name": "stdout",
     "output_type": "stream",
     "text": [
      "\n",
      "\n",
      "\n"
     ]
    }
   ],
   "source": [
    "for item in lst_df:\n",
    "    display(item.value_counts())\n",
    "    print(\"\\n\\n\")"
   ]
  },
  {
   "cell_type": "code",
   "execution_count": 58,
   "metadata": {},
   "outputs": [
    {
     "data": {
      "text/html": [
       "<div>\n",
       "<style scoped>\n",
       "    .dataframe tbody tr th:only-of-type {\n",
       "        vertical-align: middle;\n",
       "    }\n",
       "\n",
       "    .dataframe tbody tr th {\n",
       "        vertical-align: top;\n",
       "    }\n",
       "\n",
       "    .dataframe thead th {\n",
       "        text-align: right;\n",
       "    }\n",
       "</style>\n",
       "<table border=\"1\" class=\"dataframe\">\n",
       "  <thead>\n",
       "    <tr style=\"text-align: right;\">\n",
       "      <th></th>\n",
       "      <th>AirportCode</th>\n",
       "      <th>CityCode</th>\n",
       "      <th>CountryCode</th>\n",
       "      <th>LocationType</th>\n",
       "      <th>UtcOffset</th>\n",
       "      <th>TimeZoneId</th>\n",
       "      <th>Latitude</th>\n",
       "      <th>Longitude</th>\n",
       "      <th>AirportName</th>\n",
       "    </tr>\n",
       "  </thead>\n",
       "  <tbody>\n",
       "    <tr>\n",
       "      <th>686</th>\n",
       "      <td>BER</td>\n",
       "      <td>BER</td>\n",
       "      <td>DE</td>\n",
       "      <td>Airport</td>\n",
       "      <td>+01:00</td>\n",
       "      <td>Europe/Berlin</td>\n",
       "      <td>52.3667</td>\n",
       "      <td>13.5033</td>\n",
       "      <td>Berlin/Brandenburg</td>\n",
       "    </tr>\n",
       "    <tr>\n",
       "      <th>3098</th>\n",
       "      <td>GWW</td>\n",
       "      <td>BER</td>\n",
       "      <td>DE</td>\n",
       "      <td>Airport</td>\n",
       "      <td>+01:00</td>\n",
       "      <td>Europe/Berlin</td>\n",
       "      <td>52.4833</td>\n",
       "      <td>13.1333</td>\n",
       "      <td>Berlin Royal Air Force Gatow</td>\n",
       "    </tr>\n",
       "    <tr>\n",
       "      <th>7376</th>\n",
       "      <td>QPP</td>\n",
       "      <td>BER</td>\n",
       "      <td>DE</td>\n",
       "      <td>Rail Station</td>\n",
       "      <td>+01:00</td>\n",
       "      <td>Europe/Berlin</td>\n",
       "      <td>52.5250</td>\n",
       "      <td>13.3694</td>\n",
       "      <td>Berlin Hbf Rail Station</td>\n",
       "    </tr>\n",
       "    <tr>\n",
       "      <th>7519</th>\n",
       "      <td>QWB</td>\n",
       "      <td>BER</td>\n",
       "      <td>DE</td>\n",
       "      <td>Rail Station</td>\n",
       "      <td>+01:00</td>\n",
       "      <td>Europe/Berlin</td>\n",
       "      <td>52.5167</td>\n",
       "      <td>13.4167</td>\n",
       "      <td>Berlin Ostbhf Rail Station</td>\n",
       "    </tr>\n",
       "    <tr>\n",
       "      <th>7520</th>\n",
       "      <td>QWC</td>\n",
       "      <td>BER</td>\n",
       "      <td>DE</td>\n",
       "      <td>Rail Station</td>\n",
       "      <td>+01:00</td>\n",
       "      <td>Europe/Berlin</td>\n",
       "      <td>52.5081</td>\n",
       "      <td>13.3314</td>\n",
       "      <td>Berlin Zoo Rail Station</td>\n",
       "    </tr>\n",
       "    <tr>\n",
       "      <th>7522</th>\n",
       "      <td>QWE</td>\n",
       "      <td>BER</td>\n",
       "      <td>DE</td>\n",
       "      <td>Rail Station</td>\n",
       "      <td>+01:00</td>\n",
       "      <td>Europe/Berlin</td>\n",
       "      <td>53.0000</td>\n",
       "      <td>14.0000</td>\n",
       "      <td>Berlin Friedrichstrasse Rail Station</td>\n",
       "    </tr>\n",
       "    <tr>\n",
       "      <th>8575</th>\n",
       "      <td>SXF</td>\n",
       "      <td>BER</td>\n",
       "      <td>DE</td>\n",
       "      <td>Airport</td>\n",
       "      <td>+01:00</td>\n",
       "      <td>Europe/Berlin</td>\n",
       "      <td>52.3786</td>\n",
       "      <td>13.5206</td>\n",
       "      <td>Berlin/Schoenefeld</td>\n",
       "    </tr>\n",
       "    <tr>\n",
       "      <th>8811</th>\n",
       "      <td>THF</td>\n",
       "      <td>BER</td>\n",
       "      <td>DE</td>\n",
       "      <td>Airport</td>\n",
       "      <td>+01:00</td>\n",
       "      <td>Europe/Berlin</td>\n",
       "      <td>52.4736</td>\n",
       "      <td>13.4017</td>\n",
       "      <td>Berlin Tempelhof Apt</td>\n",
       "    </tr>\n",
       "    <tr>\n",
       "      <th>9161</th>\n",
       "      <td>TXL</td>\n",
       "      <td>BER</td>\n",
       "      <td>DE</td>\n",
       "      <td>Airport</td>\n",
       "      <td>+01:00</td>\n",
       "      <td>Europe/Berlin</td>\n",
       "      <td>52.5597</td>\n",
       "      <td>13.2878</td>\n",
       "      <td>Berlin/Tegel</td>\n",
       "    </tr>\n",
       "  </tbody>\n",
       "</table>\n",
       "</div>"
      ],
      "text/plain": [
       "     AirportCode CityCode CountryCode  LocationType UtcOffset     TimeZoneId  \\\n",
       "686          BER      BER          DE       Airport    +01:00  Europe/Berlin   \n",
       "3098         GWW      BER          DE       Airport    +01:00  Europe/Berlin   \n",
       "7376         QPP      BER          DE  Rail Station    +01:00  Europe/Berlin   \n",
       "7519         QWB      BER          DE  Rail Station    +01:00  Europe/Berlin   \n",
       "7520         QWC      BER          DE  Rail Station    +01:00  Europe/Berlin   \n",
       "7522         QWE      BER          DE  Rail Station    +01:00  Europe/Berlin   \n",
       "8575         SXF      BER          DE       Airport    +01:00  Europe/Berlin   \n",
       "8811         THF      BER          DE       Airport    +01:00  Europe/Berlin   \n",
       "9161         TXL      BER          DE       Airport    +01:00  Europe/Berlin   \n",
       "\n",
       "      Latitude  Longitude                           AirportName  \n",
       "686    52.3667    13.5033                    Berlin/Brandenburg  \n",
       "3098   52.4833    13.1333          Berlin Royal Air Force Gatow  \n",
       "7376   52.5250    13.3694               Berlin Hbf Rail Station  \n",
       "7519   52.5167    13.4167            Berlin Ostbhf Rail Station  \n",
       "7520   52.5081    13.3314               Berlin Zoo Rail Station  \n",
       "7522   53.0000    14.0000  Berlin Friedrichstrasse Rail Station  \n",
       "8575   52.3786    13.5206                    Berlin/Schoenefeld  \n",
       "8811   52.4736    13.4017                  Berlin Tempelhof Apt  \n",
       "9161   52.5597    13.2878                          Berlin/Tegel  "
      ]
     },
     "execution_count": 58,
     "metadata": {},
     "output_type": "execute_result"
    }
   ],
   "source": [
    "df_airports_clean[df_airports_clean[\"CityCode\"] == \"BER\"]"
   ]
  },
  {
   "cell_type": "code",
   "execution_count": null,
   "metadata": {},
   "outputs": [],
   "source": []
  }
 ],
 "metadata": {
  "kernelspec": {
   "display_name": "base",
   "language": "python",
   "name": "python3"
  },
  "language_info": {
   "codemirror_mode": {
    "name": "ipython",
    "version": 3
   },
   "file_extension": ".py",
   "mimetype": "text/x-python",
   "name": "python",
   "nbconvert_exporter": "python",
   "pygments_lexer": "ipython3",
   "version": "3.9.13"
  },
  "orig_nbformat": 4,
  "vscode": {
   "interpreter": {
    "hash": "4338fc074745a2823b2ac7227ebc10b4e0826e1ab48716b665038358cb20ff3e"
   }
  }
 },
 "nbformat": 4,
 "nbformat_minor": 2
}
