{
 "cells": [
  {
   "cell_type": "code",
   "execution_count": 2,
   "metadata": {},
   "outputs": [],
   "source": [
    "import requests\n",
    "import time\n",
    "import pandas as pd"
   ]
  },
  {
   "cell_type": "code",
   "execution_count": 6,
   "metadata": {},
   "outputs": [],
   "source": [
    "os_base_url = 'https://opensky-network.org/api'\n",
    "all_states_url = '/states/all'"
   ]
  },
  {
   "cell_type": "code",
   "execution_count": 22,
   "metadata": {},
   "outputs": [
    {
     "data": {
      "text/plain": [
       "1677701169"
      ]
     },
     "execution_count": 22,
     "metadata": {},
     "output_type": "execute_result"
    }
   ],
   "source": [
    "current_time = int(time.time())\n",
    "current_time"
   ]
  },
  {
   "cell_type": "code",
   "execution_count": 24,
   "metadata": {},
   "outputs": [],
   "source": [
    "my_params = {\n",
    "    \"time\": current_time\n",
    "}\n",
    "\n",
    "r = requests.get(os_base_url+all_states_url)"
   ]
  },
  {
   "cell_type": "code",
   "execution_count": 20,
   "metadata": {},
   "outputs": [],
   "source": [
    "os_columns = ['icao24', 'callsign', 'origin_country', 'time_position','last_contact',\n",
    "                    'longitude','latitude','baro_altitude','on_ground','velocity','true_track'\n",
    "                    ,'vertical_rate','sensors','geo_altitude','squawk','spi','position_source']\n",
    "df_os = pd.DataFrame(r.get('states'), columns=os_columns)\n",
    "df_os.to_csv('../data/df_os.csv', sep=\";\", index=False)"
   ]
  },
  {
   "cell_type": "code",
   "execution_count": 21,
   "metadata": {},
   "outputs": [
    {
     "data": {
      "text/plain": [
       "0    9282\n",
       "3       9\n",
       "Name: position_source, dtype: int64"
      ]
     },
     "execution_count": 21,
     "metadata": {},
     "output_type": "execute_result"
    }
   ],
   "source": [
    "df_os['position_source'].value_counts()"
   ]
  }
 ],
 "metadata": {
  "kernelspec": {
   "display_name": "base",
   "language": "python",
   "name": "python3"
  },
  "language_info": {
   "codemirror_mode": {
    "name": "ipython",
    "version": 3
   },
   "file_extension": ".py",
   "mimetype": "text/x-python",
   "name": "python",
   "nbconvert_exporter": "python",
   "pygments_lexer": "ipython3",
   "version": "3.9.13"
  },
  "orig_nbformat": 4,
  "vscode": {
   "interpreter": {
    "hash": "4338fc074745a2823b2ac7227ebc10b4e0826e1ab48716b665038358cb20ff3e"
   }
  }
 },
 "nbformat": 4,
 "nbformat_minor": 2
}
